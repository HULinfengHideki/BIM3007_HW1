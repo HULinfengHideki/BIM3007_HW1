{
 "cells": [
  {
   "cell_type": "code",
   "execution_count": 6,
   "id": "eca6d730",
   "metadata": {},
   "outputs": [
    {
     "name": "stdout",
     "output_type": "stream",
     "text": [
      "Enter AA/BB: 23\n",
      "Enter AA/Bb: 51\n",
      "Enter AA/bb: 34\n",
      "Enter Aa/BB: 37\n",
      "Enter Aa/Bb: 48\n",
      "Enter Aa/bb: 35\n",
      "Enter aa/BB: 13\n",
      "Enter aa/Bb: 19\n",
      "Enter aa/bb: 11\n",
      "Enter the mid one: 48\n"
     ]
    }
   ],
   "source": [
    "a1=float(input('Enter AA/BB: '))\n",
    "a2=float(input('Enter AA/Bb: '))\n",
    "a3=float(input('Enter AA/bb: '))\n",
    "a4=float(input('Enter Aa/BB: '))\n",
    "a5=float(input('Enter Aa/Bb: '))\n",
    "a6=float(input('Enter Aa/bb: '))\n",
    "a7=float(input('Enter aa/BB: '))\n",
    "a8=float(input('Enter aa/Bb: '))\n",
    "a9=float(input('Enter aa/bb: '))\n",
    "a_mid=float(input('Enter the mid one: '))"
   ]
  },
  {
   "cell_type": "code",
   "execution_count": 32,
   "id": "3c5ef02c",
   "metadata": {},
   "outputs": [
    {
     "name": "stdout",
     "output_type": "stream",
     "text": [
      "E_AB_ab in the first trail is:21.8736\n",
      "first iteration done\n"
     ]
    }
   ],
   "source": [
    "E_AB=float(a1*2 + a4 + a2 + a5/2)\n",
    "E_Ab=float(a3*2 + a2 + a6 + a5/2)\n",
    "E_aB=float(a7*2 + a8 + a4 + a5/2)\n",
    "E_ab=float(a9*2 + a8 + a6 + a5/2)\n",
    "\n",
    "E_AB_root=float(a1*2 + a4 + a2)\n",
    "E_Ab_root=float(a3*2 + a2 + a6)\n",
    "E_aB_root=float(a7*2 + a8 + a4)\n",
    "E_ab_root=float(a9*2 + a8 + a6)\n",
    "\n",
    "total = E_AB+E_Ab+E_aB+E_ab\n",
    "f_AB = float(('%.4f ' % float(E_AB/total)))\n",
    "f_Ab = float(('%.4f ' % float(E_Ab/total)))\n",
    "f_aB = float(('%.4f ' % float(E_aB/total)))\n",
    "f_ab = float(('%.4f ' % float(E_ab/total)))\n",
    "P_AB_ab = float(('%.4f' %  float(f_AB*f_ab / (f_AB*f_ab+f_Ab*f_aB))))\n",
    "P_Ab_aB = float(1-P_AB_ab)\n",
    "E_AB_ab = float(('%.4f' % float(a_mid*P_AB_ab)))\n",
    "E_Ab_aB = float(a_mid - E_AB_ab)\n",
    "print('E_AB_ab in the first trail is:'+str(E_AB_ab))\n",
    "print('first iteration done')"
   ]
  },
  {
   "cell_type": "code",
   "execution_count": 33,
   "id": "647e414b",
   "metadata": {},
   "outputs": [
    {
     "name": "stdout",
     "output_type": "stream",
     "text": [
      "E_AB_ab in the second trail is:21.0864\n",
      "second iteration done\n"
     ]
    }
   ],
   "source": [
    "# 2nd\n",
    "E_AB=E_AB_root+E_AB_ab\n",
    "E_Ab=E_Ab_root+E_Ab_aB\n",
    "E_aB=E_aB_root+E_Ab_aB\n",
    "E_ab=E_ab_root+E_AB_ab\n",
    "\n",
    "f_AB = float(('%.4f ' % float(E_AB/total)))\n",
    "f_Ab = float(('%.4f ' % float(E_Ab/total)))\n",
    "f_aB = float(('%.4f ' % float(E_aB/total)))\n",
    "f_ab = float(('%.4f ' % float(E_ab/total)))\n",
    "P_AB_ab = float(('%.4f' %  float(f_AB*f_ab / (f_AB*f_ab+f_Ab*f_aB))))\n",
    "P_Ab_aB = float(1-P_AB_ab)\n",
    "E_AB_ab = float(('%.4f' % float(a_mid*P_AB_ab)))\n",
    "E_Ab_aB = float(a_mid - E_AB_ab)\n",
    "print('E_AB_ab in the second trail is:'+str(E_AB_ab))\n",
    "print('second iteration done')"
   ]
  },
  {
   "cell_type": "code",
   "execution_count": 34,
   "id": "dffdb3b6",
   "metadata": {},
   "outputs": [
    {
     "name": "stdout",
     "output_type": "stream",
     "text": [
      "E_AB_ab in the third trail is:20.7888\n",
      "third iteration done\n"
     ]
    }
   ],
   "source": [
    "# 3rd\n",
    "E_AB=E_AB_root+E_AB_ab\n",
    "E_Ab=E_Ab_root+E_Ab_aB\n",
    "E_aB=E_aB_root+E_Ab_aB\n",
    "E_ab=E_ab_root+E_AB_ab\n",
    "\n",
    "f_AB = float(('%.4f ' % float(E_AB/total)))\n",
    "f_Ab = float(('%.4f ' % float(E_Ab/total)))\n",
    "f_aB = float(('%.4f ' % float(E_aB/total)))\n",
    "f_ab = float(('%.4f ' % float(E_ab/total)))\n",
    "P_AB_ab = float(('%.4f' %  float(f_AB*f_ab / (f_AB*f_ab+f_Ab*f_aB))))\n",
    "P_Ab_aB = float(1-P_AB_ab)\n",
    "E_AB_ab = float(('%.4f' % float(a_mid*P_AB_ab)))\n",
    "E_Ab_aB = float(a_mid - E_AB_ab)\n",
    "print('E_AB_ab in the third trail is:'+str(E_AB_ab))\n",
    "print('third iteration done')"
   ]
  },
  {
   "cell_type": "code",
   "execution_count": 35,
   "id": "31a268ea",
   "metadata": {},
   "outputs": [
    {
     "name": "stdout",
     "output_type": "stream",
     "text": [
      "E_AB_ab in the forth trail is:20.6832\n",
      "forth iteration done\n"
     ]
    }
   ],
   "source": [
    "# 4th\n",
    "E_AB=E_AB_root+E_AB_ab\n",
    "E_Ab=E_Ab_root+E_Ab_aB\n",
    "E_aB=E_aB_root+E_Ab_aB\n",
    "E_ab=E_ab_root+E_AB_ab\n",
    "\n",
    "f_AB = float(('%.4f ' % float(E_AB/total)))\n",
    "f_Ab = float(('%.4f ' % float(E_Ab/total)))\n",
    "f_aB = float(('%.4f ' % float(E_aB/total)))\n",
    "f_ab = float(('%.4f ' % float(E_ab/total)))\n",
    "P_AB_ab = float(('%.4f' %  float(f_AB*f_ab / (f_AB*f_ab+f_Ab*f_aB))))\n",
    "P_Ab_aB = float(1-P_AB_ab)\n",
    "E_AB_ab = float(('%.4f' % float(a_mid*P_AB_ab)))\n",
    "E_Ab_aB = float(a_mid - E_AB_ab)\n",
    "print('E_AB_ab in the forth trail is:'+str(E_AB_ab))\n",
    "print('forth iteration done')"
   ]
  },
  {
   "cell_type": "code",
   "execution_count": 38,
   "id": "13606be5",
   "metadata": {},
   "outputs": [
    {
     "name": "stdout",
     "output_type": "stream",
     "text": [
      "fifth iteration done\n",
      "--------------------------------------------\n",
      "f_AB in the fifth EM is:0.2853\n",
      "f_Ab in the fifth EM is:0.3346\n",
      "f_aB in the fifth EM is:0.2018\n",
      "f_ab in the fifth EM is:0.1783\n"
     ]
    }
   ],
   "source": [
    "# 5th\n",
    "E_AB=E_AB_root+E_AB_ab\n",
    "E_Ab=E_Ab_root+E_Ab_aB\n",
    "E_aB=E_aB_root+E_Ab_aB\n",
    "E_ab=E_ab_root+E_AB_ab\n",
    "\n",
    "f_AB = float(('%.4f ' % float(E_AB/total)))\n",
    "f_Ab = float(('%.4f ' % float(E_Ab/total)))\n",
    "f_aB = float(('%.4f ' % float(E_aB/total)))\n",
    "f_ab = float(('%.4f ' % float(E_ab/total)))\n",
    "P_AB_ab = float(('%.4f' %  float(f_AB*f_ab / (f_AB*f_ab+f_Ab*f_aB))))\n",
    "P_Ab_aB = float(1-P_AB_ab)\n",
    "E_AB_ab = float(('%.4f' % float(a_mid*P_AB_ab)))\n",
    "E_Ab_aB = float(a_mid - E_AB_ab)\n",
    "\n",
    "print('fifth iteration done')\n",
    "print('--------------------------------------------')\n",
    "# print('P_AB_ab in the fifth trail is:'+str(P_AB_ab))\n",
    "# print('P_Ab_aB in the fifth trail is:'+str(P_Ab_aB))\n",
    "# print('E_AB_ab in the fifth trail is:'+str(E_AB_ab))\n",
    "# print('E_Ab_aB in the fifth trail is:'+str(E_Ab_aB))\n",
    "print('f_AB in the fifth EM is:'+str(f_AB))\n",
    "print('f_Ab in the fifth EM is:'+str(f_Ab))\n",
    "print('f_aB in the fifth EM is:'+str(f_aB))\n",
    "print('f_ab in the fifth EM is:'+str(f_ab))"
   ]
  },
  {
   "cell_type": "code",
   "execution_count": null,
   "id": "727b0d48",
   "metadata": {},
   "outputs": [],
   "source": [
    "### this is the report for BIM3007 assignment1, question 5\n",
    "### HU Linfeng, 120090473, MED|LHS\n",
    "### posted only for validation\n",
    "### slight error due to the retention of decimal places may occur, but the accuracy is enough to show convergence"
   ]
  }
 ],
 "metadata": {
  "kernelspec": {
   "display_name": "Python 3 (ipykernel)",
   "language": "python",
   "name": "python3"
  },
  "language_info": {
   "codemirror_mode": {
    "name": "ipython",
    "version": 3
   },
   "file_extension": ".py",
   "mimetype": "text/x-python",
   "name": "python",
   "nbconvert_exporter": "python",
   "pygments_lexer": "ipython3",
   "version": "3.9.12"
  }
 },
 "nbformat": 4,
 "nbformat_minor": 5
}
